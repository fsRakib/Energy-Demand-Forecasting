{
 "cells": [
  {
   "cell_type": "code",
   "execution_count": null,
   "id": "fd42bc66",
   "metadata": {},
   "outputs": [
    {
     "name": "stdout",
     "output_type": "stream",
     "text": [
      "Collecting pandas\n",
      "  Using cached pandas-2.3.2-cp313-cp313-win_amd64.whl.metadata (19 kB)\n",
      "Collecting numpy>=1.26.0 (from pandas)\n",
      "  Using cached numpy-2.3.2-cp313-cp313-win_amd64.whl.metadata (60 kB)\n",
      "Requirement already satisfied: python-dateutil>=2.8.2 in d:\\energy demand forecasting\\.venv\\lib\\site-packages (from pandas) (2.9.0.post0)\n",
      "Collecting pytz>=2020.1 (from pandas)\n",
      "  Using cached pytz-2025.2-py2.py3-none-any.whl.metadata (22 kB)\n",
      "Collecting tzdata>=2022.7 (from pandas)\n",
      "  Using cached tzdata-2025.2-py2.py3-none-any.whl.metadata (1.4 kB)\n",
      "Requirement already satisfied: six>=1.5 in d:\\energy demand forecasting\\.venv\\lib\\site-packages (from python-dateutil>=2.8.2->pandas) (1.17.0)\n",
      "Using cached pandas-2.3.2-cp313-cp313-win_amd64.whl (11.0 MB)\n",
      "Downloading numpy-2.3.2-cp313-cp313-win_amd64.whl (12.8 MB)\n",
      "   ---------------------------------------- 0.0/12.8 MB ? eta -:--:--\n",
      "    --------------------------------------- 0.3/12.8 MB ? eta -:--:--\n",
      "   --- ------------------------------------ 1.0/12.8 MB 4.0 MB/s eta 0:00:03\n",
      "   ----- ---------------------------------- 1.8/12.8 MB 3.7 MB/s eta 0:00:03\n",
      "   ------- -------------------------------- 2.4/12.8 MB 3.7 MB/s eta 0:00:03\n",
      "   --------- ------------------------------ 3.1/12.8 MB 3.6 MB/s eta 0:00:03\n",
      "   ----------- ---------------------------- 3.7/12.8 MB 3.3 MB/s eta 0:00:03\n",
      "   ------------- -------------------------- 4.2/12.8 MB 3.3 MB/s eta 0:00:03\n",
      "   -------------- ------------------------- 4.7/12.8 MB 3.2 MB/s eta 0:00:03\n",
      "   ----------------- ---------------------- 5.5/12.8 MB 3.1 MB/s eta 0:00:03\n",
      "   ------------------ --------------------- 5.8/12.8 MB 2.9 MB/s eta 0:00:03\n",
      "   ------------------- -------------------- 6.3/12.8 MB 2.8 MB/s eta 0:00:03\n",
      "   -------------------- ------------------- 6.6/12.8 MB 2.7 MB/s eta 0:00:03\n",
      "   --------------------- ------------------ 6.8/12.8 MB 2.6 MB/s eta 0:00:03\n",
      "   --------------------- ------------------ 6.8/12.8 MB 2.6 MB/s eta 0:00:03\n",
      "   ---------------------- ----------------- 7.3/12.8 MB 2.4 MB/s eta 0:00:03\n",
      "   ---------------------- ----------------- 7.3/12.8 MB 2.4 MB/s eta 0:00:03\n",
      "   ----------------------- ---------------- 7.6/12.8 MB 2.3 MB/s eta 0:00:03\n",
      "   ------------------------ --------------- 7.9/12.8 MB 2.2 MB/s eta 0:00:03\n",
      "   ------------------------- -------------- 8.1/12.8 MB 2.1 MB/s eta 0:00:03\n",
      "   -------------------------- ------------- 8.4/12.8 MB 2.0 MB/s eta 0:00:03\n",
      "   -------------------------- ------------- 8.4/12.8 MB 2.0 MB/s eta 0:00:03\n",
      "   --------------------------- ------------ 8.7/12.8 MB 1.9 MB/s eta 0:00:03\n",
      "   --------------------------- ------------ 8.9/12.8 MB 1.9 MB/s eta 0:00:03\n",
      "   ---------------------------- ----------- 9.2/12.8 MB 1.8 MB/s eta 0:00:02\n",
      "   ---------------------------- ----------- 9.2/12.8 MB 1.8 MB/s eta 0:00:02\n",
      "   ----------------------------- ---------- 9.4/12.8 MB 1.8 MB/s eta 0:00:02\n",
      "   ------------------------------ --------- 9.7/12.8 MB 1.8 MB/s eta 0:00:02\n",
      "   ------------------------------- -------- 10.0/12.8 MB 1.7 MB/s eta 0:00:02\n",
      "   ------------------------------- -------- 10.2/12.8 MB 1.7 MB/s eta 0:00:02\n",
      "   -------------------------------- ------- 10.5/12.8 MB 1.7 MB/s eta 0:00:02\n",
      "   --------------------------------- ------ 10.7/12.8 MB 1.7 MB/s eta 0:00:02\n",
      "   ---------------------------------- ----- 11.0/12.8 MB 1.7 MB/s eta 0:00:02\n",
      "   ----------------------------------- ---- 11.3/12.8 MB 1.7 MB/s eta 0:00:01\n",
      "   ------------------------------------ --- 11.5/12.8 MB 1.7 MB/s eta 0:00:01\n",
      "   ------------------------------------- -- 12.1/12.8 MB 1.6 MB/s eta 0:00:01\n",
      "   -------------------------------------- - 12.3/12.8 MB 1.6 MB/s eta 0:00:01\n",
      "   ---------------------------------------  12.6/12.8 MB 1.6 MB/s eta 0:00:01\n",
      "   ---------------------------------------  12.6/12.8 MB 1.6 MB/s eta 0:00:01\n",
      "   ---------------------------------------- 12.8/12.8 MB 1.6 MB/s eta 0:00:00\n",
      "Using cached pytz-2025.2-py2.py3-none-any.whl (509 kB)\n",
      "Using cached tzdata-2025.2-py2.py3-none-any.whl (347 kB)\n",
      "Installing collected packages: pytz, tzdata, numpy, pandas\n",
      "Successfully installed numpy-2.3.2 pandas-2.3.2 pytz-2025.2 tzdata-2025.2\n",
      "Note: you may need to restart the kernel to use updated packages.\n"
     ]
    },
    {
     "ename": "ModuleNotFoundError",
     "evalue": "No module named 'matplotlib'",
     "output_type": "error",
     "traceback": [
      "\u001b[31m---------------------------------------------------------------------------\u001b[39m",
      "\u001b[31mModuleNotFoundError\u001b[39m                       Traceback (most recent call last)",
      "\u001b[36mCell\u001b[39m\u001b[36m \u001b[39m\u001b[32mIn[2]\u001b[39m\u001b[32m, line 5\u001b[39m\n\u001b[32m      3\u001b[39m \u001b[38;5;28;01mimport\u001b[39;00m\u001b[38;5;250m \u001b[39m\u001b[34;01mpandas\u001b[39;00m\u001b[38;5;250m \u001b[39m\u001b[38;5;28;01mas\u001b[39;00m\u001b[38;5;250m \u001b[39m\u001b[34;01mpd\u001b[39;00m\n\u001b[32m      4\u001b[39m \u001b[38;5;28;01mimport\u001b[39;00m\u001b[38;5;250m \u001b[39m\u001b[34;01mnumpy\u001b[39;00m\u001b[38;5;250m \u001b[39m\u001b[38;5;28;01mas\u001b[39;00m\u001b[38;5;250m \u001b[39m\u001b[34;01mnp\u001b[39;00m\n\u001b[32m----> \u001b[39m\u001b[32m5\u001b[39m \u001b[38;5;28;01mimport\u001b[39;00m\u001b[38;5;250m \u001b[39m\u001b[34;01mmatplotlib\u001b[39;00m\u001b[34;01m.\u001b[39;00m\u001b[34;01mpyplot\u001b[39;00m\u001b[38;5;250m \u001b[39m\u001b[38;5;28;01mas\u001b[39;00m\u001b[38;5;250m \u001b[39m\u001b[34;01mplt\u001b[39;00m\n\u001b[32m      7\u001b[39m \u001b[38;5;66;03m#load data\u001b[39;00m\n\u001b[32m      8\u001b[39m data=pd.read_csv(\u001b[33m'\u001b[39m\u001b[33mTimeSeries_TotalSolarGen_and_Load_IT_2016.csv\u001b[39m\u001b[33m'\u001b[39m)\n",
      "\u001b[31mModuleNotFoundError\u001b[39m: No module named 'matplotlib'"
     ]
    }
   ],
   "source": [
    "import pandas as pd\n",
    "import numpy as np\n",
    "import matplotlib.pyplot as plt\n",
    "\n",
    "#load data\n",
    "data=pd.read_csv('TimeSeries_TotalSolarGen_and_Load_IT_2016.csv')\n"
   ]
  }
 ],
 "metadata": {
  "kernelspec": {
   "display_name": ".venv",
   "language": "python",
   "name": "python3"
  },
  "language_info": {
   "codemirror_mode": {
    "name": "ipython",
    "version": 3
   },
   "file_extension": ".py",
   "mimetype": "text/x-python",
   "name": "python",
   "nbconvert_exporter": "python",
   "pygments_lexer": "ipython3",
   "version": "3.13.3"
  }
 },
 "nbformat": 4,
 "nbformat_minor": 5
}
